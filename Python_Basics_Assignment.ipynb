{
  "nbformat": 4,
  "nbformat_minor": 0,
  "metadata": {
    "colab": {
      "provenance": []
    },
    "kernelspec": {
      "name": "python3",
      "display_name": "Python 3"
    },
    "language_info": {
      "name": "python"
    }
  },
  "cells": [
    {
      "cell_type": "markdown",
      "source": [
        "# 1) What is python and why is it popular?\n",
        "ans->\n",
        "\n",
        "1) Python is a computer prgramming language which helps the user to interact and give intructions to the computer/machine\n",
        "\n",
        "2) python is popular as it is:\n",
        " * Easy to learn\n",
        " * Due to its versatility->(ex: web development,Machine learning)\n",
        " * It contains numerous libraries\n",
        " * Huge active cummunity.\n",
        "\n"
      ],
      "metadata": {
        "id": "IQH---UL-r2E"
      }
    },
    {
      "cell_type": "markdown",
      "source": [
        "#2) What is a interpreter in Python\n",
        "\n",
        "Ans->\n",
        "* The interpreter in Python is a programm that reads and executes the command given by the user,it is used to translate high level pyhton codes into machine-readable language for the machine to understand and execute the commnad\n",
        "in this the interpreter processes the code and executes it without using aother step or command."
      ],
      "metadata": {
        "id": "frmlCeeaDib-"
      }
    },
    {
      "cell_type": "markdown",
      "source": [
        "#3) What are pre-defined keywords in python?\n",
        "\n",
        "ans-> The pre-defined keyowrds in python are\n",
        "* print\n",
        "* type\n",
        "* def\n",
        "* esle\n",
        "* return\n",
        "* or etc.\n",
        "\n",
        " thet are words with special meaning or reserverd words that hold special purpose\n",
        "\n"
      ],
      "metadata": {
        "id": "YJPnXeHeZcc3"
      }
    },
    {
      "cell_type": "markdown",
      "source": [
        "#4) Can keywords be used as variable names?\n",
        "\n",
        "ans->\n",
        "* they cannot be used as variables or functions or either identifires as they have a specific meaning or reserverd words that is used in pythons syntax and operations."
      ],
      "metadata": {
        "id": "SZ0KfUdaaWdj"
      }
    },
    {
      "cell_type": "markdown",
      "source": [
        "#5) What is mutablity in Python?\n",
        "ans-> Objects/containers whose state or value can be changed after they are created are called as mutable objects or this is called mutability"
      ],
      "metadata": {
        "id": "ZiHSTaqah_0N"
      }
    },
    {
      "cell_type": "markdown",
      "source": [
        "#6) Why are lists mutable but tuples are immutable?\n",
        "\n",
        "and->\n",
        "* 1) list are mutable because you can change the order of a list or reassign the value or element on the list\n",
        "* 2) tuples are immutable beacuse tuples uses parentheses instead of square brackets and items or elements in tuples cannot be changed or reassigned or modified\n",
        "\n",
        "    Hence, lists are mutable while tuples are immutables"
      ],
      "metadata": {
        "id": "bITPgvxUjmON"
      }
    },
    {
      "cell_type": "markdown",
      "source": [
        "#7) What is the difference between \"==\" and \"is\" operators in python?\n",
        "\n",
        "and->\n",
        "* the \"==\" and \"is\" they both are known as comparision operators. But they differ in checking of aspects of objects,\"==\"(equality operator)checks if the two objects have same value, while \"is\"(identifire operator)checks if two variables show the same object in the memory"
      ],
      "metadata": {
        "id": "PKurhDSUjpDP"
      }
    },
    {
      "cell_type": "markdown",
      "source": [
        "#8) What are logical operators in python?\n",
        "\n",
        "and-> The logicals operators are and, or & not\n",
        "these are also known as boolean operators"
      ],
      "metadata": {
        "id": "KZOcHO3jjuCO"
      }
    },
    {
      "cell_type": "markdown",
      "source": [
        "#9) What is Type casting in Python?\n",
        "\n",
        "ans-> it means to change the format of a output"
      ],
      "metadata": {
        "id": "bShXRf-KjvS2"
      }
    },
    {
      "cell_type": "markdown",
      "source": [
        "#10) WHat is the difference between implicit and explicit type casting?\n",
        "\n",
        "ans->\n",
        "* Implicit Type casting also called as widening conversion, it automatically converts the data from samller data type to larger data type by a compiler\n",
        "* Explicit Type casting also called as narrowing conversion involves the programmer to explicitly instruct the compiler to convert a data type which often involves potential data loss"
      ],
      "metadata": {
        "id": "paX0I6eFjwKI"
      }
    },
    {
      "cell_type": "markdown",
      "source": [
        "#11) What is the purpose of conditional statements in Python?\n",
        "\n",
        "ans-> its purpose in python is controlling the flow of program by the execution of different blocks of codes based on the conditions"
      ],
      "metadata": {
        "id": "I8JL1yiLjxHU"
      }
    },
    {
      "cell_type": "markdown",
      "source": [
        "#12)  How does the elif statement work?\n",
        "\n",
        "ans-> the elif statement is a keyword in python which stands for \"else if\" it is used for conditional statements for checking multiple conditions"
      ],
      "metadata": {
        "id": "lplK3ZOZjyBa"
      }
    },
    {
      "cell_type": "markdown",
      "source": [
        "#13) What is the difference between the for and while loop?\n",
        "\n",
        "ans->\n",
        "* \"For\" loops are used when the user known the number of iterations before hand so that they can iterate over a list of range / sequence\n",
        "* \"while\" loops they continue until a specific condition has been met, they can be dynamic"
      ],
      "metadata": {
        "id": "39zTErjhjy0K"
      }
    },
    {
      "cell_type": "markdown",
      "source": [
        "#14) Describe a scenario where a while loop is more suitable than for loop\n",
        "\n",
        "and-> a while loop is especially use when the user does not know the number of iterations before hand/in advance\n",
        "\n",
        "\n",
        "\n"
      ],
      "metadata": {
        "id": "30anSYRljz3i"
      }
    },
    {
      "cell_type": "markdown",
      "source": [
        "# PRACTICLE QUESTIONS"
      ],
      "metadata": {
        "id": "MPcHyg1Kj1AN"
      }
    },
    {
      "cell_type": "markdown",
      "source": [
        "* 1) Write a python program to print \"Hello world\""
      ],
      "metadata": {
        "id": "aaxteyJukADa"
      }
    },
    {
      "cell_type": "code",
      "source": [
        "print(\"Hello, world\")"
      ],
      "metadata": {
        "colab": {
          "base_uri": "https://localhost:8080/"
        },
        "id": "LW5IbgQRkWo5",
        "outputId": "737b9a6f-1355-446d-9e6c-bdd8d8be5b59"
      },
      "execution_count": 68,
      "outputs": [
        {
          "output_type": "stream",
          "name": "stdout",
          "text": [
            "Hello, world\n"
          ]
        }
      ]
    },
    {
      "cell_type": "markdown",
      "source": [
        "* 2) wite a python program that displays your name and age"
      ],
      "metadata": {
        "id": "fl6KgZfxlBxI"
      }
    },
    {
      "cell_type": "code",
      "source": [
        "name = \"Rida\"\n",
        "age = 18\n",
        "print(\"hi my name is \"+name+\" and im \"+str(age)+\" old this year\")"
      ],
      "metadata": {
        "colab": {
          "base_uri": "https://localhost:8080/"
        },
        "id": "HiNHcZ0KlIz4",
        "outputId": "4e70a218-50d1-4a63-a4ea-7ef47851c7c6"
      },
      "execution_count": 69,
      "outputs": [
        {
          "output_type": "stream",
          "name": "stdout",
          "text": [
            "hi my name is Rida and im 18 old this year\n"
          ]
        }
      ]
    },
    {
      "cell_type": "markdown",
      "source": [
        "* 3) Write a code to print all the pre-defined keywords in python using the keyword library"
      ],
      "metadata": {
        "id": "tbOyuMm2mMvv"
      }
    },
    {
      "cell_type": "code",
      "source": [
        "import keyword\n",
        "print(keyword.kwlist)"
      ],
      "metadata": {
        "colab": {
          "base_uri": "https://localhost:8080/"
        },
        "id": "zOSnBB94mbbF",
        "outputId": "42ea37f7-61e8-40e1-af4d-f22e5b21209f"
      },
      "execution_count": 32,
      "outputs": [
        {
          "output_type": "stream",
          "name": "stdout",
          "text": [
            "['False', 'None', 'True', 'and', 'as', 'assert', 'async', 'await', 'break', 'class', 'continue', 'def', 'del', 'elif', 'else', 'except', 'finally', 'for', 'from', 'global', 'if', 'import', 'in', 'is', 'lambda', 'nonlocal', 'not', 'or', 'pass', 'raise', 'return', 'try', 'while', 'with', 'yield']\n"
          ]
        }
      ]
    },
    {
      "cell_type": "markdown",
      "source": [
        "* 4) Write a program that checkes if the given word is a python keyword"
      ],
      "metadata": {
        "id": "mNi0Tlbgnftp"
      }
    },
    {
      "cell_type": "code",
      "source": [
        "import keyword\n",
        "\n",
        "def is_python_keyword(word):\n",
        "     \"\"\"Checks if a given word is a python keyword.\n",
        "\n",
        "     Args:\n",
        "          word: the word to check\n",
        "\n",
        "     Returns:\n",
        "          True if the word is a keyword, False otherwise.\n",
        "          \"\"\"\n",
        "     return keyword.iskeyword(word)\n",
        ""
      ],
      "metadata": {
        "id": "xknxNbFEwdMh"
      },
      "execution_count": 49,
      "outputs": []
    },
    {
      "cell_type": "markdown",
      "source": [
        "* 5) Creat a list and tuple in Python and demonstrate how attempting to change an element works differently for each."
      ],
      "metadata": {
        "id": "mv-1-Qyu09ej"
      }
    },
    {
      "cell_type": "code",
      "source": [
        ">>> letters = ['A','B','c','d'] # A list\n",
        "\n",
        "\n",
        ">>> letters[2]= \"C\"\n",
        ">>> letters"
      ],
      "metadata": {
        "colab": {
          "base_uri": "https://localhost:8080/"
        },
        "id": "yz53-Cd31Vzr",
        "outputId": "d3310664-c907-4e3e-d89d-0f3e37742b56"
      },
      "execution_count": 62,
      "outputs": [
        {
          "output_type": "execute_result",
          "data": {
            "text/plain": [
              "['A', 'B', 'C', 'd']"
            ]
          },
          "metadata": {},
          "execution_count": 62
        }
      ]
    },
    {
      "cell_type": "code",
      "source": [
        ">>> letters = ('A','B','c','d') # A tuble\n",
        "\n",
        ">>> letter[2]= \"C\"\n",
        ">>> letters"
      ],
      "metadata": {
        "colab": {
          "base_uri": "https://localhost:8080/",
          "height": 193
        },
        "id": "YiDGZhK529j3",
        "outputId": "d6defa58-9fe9-4956-d9db-65b26ed2addd"
      },
      "execution_count": 63,
      "outputs": [
        {
          "output_type": "error",
          "ename": "NameError",
          "evalue": "name 'letter' is not defined",
          "traceback": [
            "\u001b[0;31m---------------------------------------------------------------------------\u001b[0m",
            "\u001b[0;31mNameError\u001b[0m                                 Traceback (most recent call last)",
            "\u001b[0;32m<ipython-input-63-d228c87cb104>\u001b[0m in \u001b[0;36m<cell line: 0>\u001b[0;34m()\u001b[0m\n\u001b[1;32m      1\u001b[0m \u001b[0mletters\u001b[0m \u001b[0;34m=\u001b[0m \u001b[0;34m(\u001b[0m\u001b[0;34m'A'\u001b[0m\u001b[0;34m,\u001b[0m\u001b[0;34m'B'\u001b[0m\u001b[0;34m,\u001b[0m\u001b[0;34m'c'\u001b[0m\u001b[0;34m,\u001b[0m\u001b[0;34m'd'\u001b[0m\u001b[0;34m)\u001b[0m \u001b[0;31m# A tuble\u001b[0m\u001b[0;34m\u001b[0m\u001b[0;34m\u001b[0m\u001b[0m\n\u001b[1;32m      2\u001b[0m \u001b[0;34m\u001b[0m\u001b[0m\n\u001b[0;32m----> 3\u001b[0;31m \u001b[0mletter\u001b[0m\u001b[0;34m[\u001b[0m\u001b[0;36m2\u001b[0m\u001b[0;34m]\u001b[0m\u001b[0;34m=\u001b[0m \u001b[0;34m\"C\"\u001b[0m\u001b[0;34m\u001b[0m\u001b[0;34m\u001b[0m\u001b[0m\n\u001b[0m\u001b[1;32m      4\u001b[0m \u001b[0mletters\u001b[0m\u001b[0;34m\u001b[0m\u001b[0;34m\u001b[0m\u001b[0m\n",
            "\u001b[0;31mNameError\u001b[0m: name 'letter' is not defined"
          ]
        }
      ]
    },
    {
      "cell_type": "markdown",
      "source": [
        "* 6) Write a function to demonstrate the behavior of mutable and immutable arguments"
      ],
      "metadata": {
        "id": "vkdMDeUg9TO7"
      }
    },
    {
      "cell_type": "code",
      "source": [
        "\n",
        "def modify_mutable_and_immutable(mutable_arg,immutable_arg):\n",
        "    \"\"\"\n",
        "    Demonstrate the behaviour of mutable and immutable\n",
        "\n",
        "    Args:\n",
        "         mutable_arg: An mutable object(e.g., list, dict, set)\n",
        "         immutable_arg: An immutable object(e.g., int, str, tuple)\n",
        "\n",
        "\n",
        "    Returns:\n",
        "         a tuple containing modified and original immutable argumment, and\n",
        "         the modified mutable argument\n",
        "    \"\"\"\n",
        "    pass"
      ],
      "metadata": {
        "id": "lsHvHDBE9gSS"
      },
      "execution_count": 67,
      "outputs": []
    },
    {
      "cell_type": "markdown",
      "source": [
        " * 7) Write a program that performs basic arithmetic operations on two user-input numbers."
      ],
      "metadata": {
        "id": "jJF0exJX__cE"
      }
    },
    {
      "cell_type": "code",
      "source": [
        "\n",
        "def perform_arithmetic(num1,num2):\n",
        "   \"\"\" Performs basic arithmetic operations on two umbers.\n",
        "\n",
        "Args:\n",
        "  num1: The first number.\n",
        "  num2: The second number.\n",
        "\n",
        "Returns:\n",
        "  A dictionary containing the results of addition, substraction, multiplication\n",
        "\"\"\"\n",
        "   if num2=='0':\n",
        "      print(\"Error cannot divide by zero.\")\n",
        "      return None\n",
        "\n",
        "   addition = num1 + num2\n",
        "   substraction = num1 - num2\n",
        "   multiplication = num1 * num2\n",
        "   division = num1 / num2\n",
        "\n",
        "\n",
        "   results = {\n",
        "       \"addition\": addition,\n",
        "       \"substraction\": substraction,\n",
        "       \"multiplication\": multiplication,\n",
        "       \"division\": division\n",
        "   }\n",
        "\n",
        "   return results\n",
        ""
      ],
      "metadata": {
        "id": "nX_anXr1_YJn"
      },
      "execution_count": 102,
      "outputs": []
    },
    {
      "cell_type": "markdown",
      "source": [
        "* 8) Write a program to demonstrate the use of logical operators"
      ],
      "metadata": {
        "id": "lerCHIG3EtnU"
      }
    },
    {
      "cell_type": "code",
      "source": [
        "#logical operator AND\n",
        "print (True and True)"
      ],
      "metadata": {
        "colab": {
          "base_uri": "https://localhost:8080/"
        },
        "id": "4hcTvtP3Btnf",
        "outputId": "6925da0c-71a7-4289-c53e-3434a984bbfc"
      },
      "execution_count": 103,
      "outputs": [
        {
          "output_type": "stream",
          "name": "stdout",
          "text": [
            "True\n"
          ]
        }
      ]
    },
    {
      "cell_type": "code",
      "source": [
        "#logical operator or\n",
        "print(True or False)"
      ],
      "metadata": {
        "colab": {
          "base_uri": "https://localhost:8080/"
        },
        "id": "SulSsh4fFptR",
        "outputId": "a306cf65-7219-4982-aab4-933eca1bf414"
      },
      "execution_count": 104,
      "outputs": [
        {
          "output_type": "stream",
          "name": "stdout",
          "text": [
            "True\n"
          ]
        }
      ]
    },
    {
      "cell_type": "markdown",
      "source": [
        "* 9) Write a python program to convert user-input from string to integer, float and boolean types"
      ],
      "metadata": {
        "id": "4oXdZFcrIbaZ"
      }
    },
    {
      "cell_type": "code",
      "source": [
        "#Convert string to integer\n",
        "num_str = \"18\"\n",
        "num_int = int(num_str)\n",
        "print(num_int)"
      ],
      "metadata": {
        "colab": {
          "base_uri": "https://localhost:8080/"
        },
        "id": "ocZH-fGdIZPL",
        "outputId": "760afe3a-2784-4339-cf16-1fa4c07c2485"
      },
      "execution_count": 105,
      "outputs": [
        {
          "output_type": "stream",
          "name": "stdout",
          "text": [
            "18\n"
          ]
        }
      ]
    },
    {
      "cell_type": "code",
      "source": [
        "#Conver string to float\n",
        "num_str = \"6.13\"\n",
        "num_float = float(num_str)\n",
        "print(num_float)"
      ],
      "metadata": {
        "colab": {
          "base_uri": "https://localhost:8080/"
        },
        "id": "1Z2dxOynJpD0",
        "outputId": "7aa4ed5f-9af8-42ff-8532-cd1ace402fc3"
      },
      "execution_count": 106,
      "outputs": [
        {
          "output_type": "stream",
          "name": "stdout",
          "text": [
            "6.13\n"
          ]
        }
      ]
    },
    {
      "cell_type": "code",
      "source": [
        "#Convert string to boolean\n",
        "num_str = \"True\"\n",
        "num_bool = bool(num_str)\n",
        "print(num_bool)"
      ],
      "metadata": {
        "colab": {
          "base_uri": "https://localhost:8080/"
        },
        "id": "IV4qcqgWJx78",
        "outputId": "63185018-4d73-4a1d-e12e-9d045d54dc1d"
      },
      "execution_count": 107,
      "outputs": [
        {
          "output_type": "stream",
          "name": "stdout",
          "text": [
            "True\n"
          ]
        }
      ]
    },
    {
      "cell_type": "markdown",
      "source": [
        "* 10) Write a code to demonstrate Type casting with list elemnets"
      ],
      "metadata": {
        "id": "dCTqb9T7J6j7"
      }
    },
    {
      "cell_type": "code",
      "source": [
        "name = input(\"please enter list element:\")"
      ],
      "metadata": {
        "colab": {
          "base_uri": "https://localhost:8080/"
        },
        "id": "o1ZWclfVJ4DF",
        "outputId": "850f7421-a23a-495d-a74c-547fdbdd009a"
      },
      "execution_count": 113,
      "outputs": [
        {
          "name": "stdout",
          "output_type": "stream",
          "text": [
            "please enter list element:-1\n"
          ]
        }
      ]
    },
    {
      "cell_type": "code",
      "source": [
        "name"
      ],
      "metadata": {
        "colab": {
          "base_uri": "https://localhost:8080/",
          "height": 35
        },
        "id": "EBwxmSgJNJlj",
        "outputId": "a1de04c5-29c9-46cf-d0ba-b5a2533de9aa"
      },
      "execution_count": 114,
      "outputs": [
        {
          "output_type": "execute_result",
          "data": {
            "text/plain": [
              "'-1'"
            ],
            "application/vnd.google.colaboratory.intrinsic+json": {
              "type": "string"
            }
          },
          "metadata": {},
          "execution_count": 114
        }
      ]
    },
    {
      "cell_type": "code",
      "source": [
        "type(name)"
      ],
      "metadata": {
        "colab": {
          "base_uri": "https://localhost:8080/"
        },
        "id": "WBO6IDVpNWB2",
        "outputId": "a74803b3-54f8-448e-de3e-3ee10297db18"
      },
      "execution_count": 115,
      "outputs": [
        {
          "output_type": "execute_result",
          "data": {
            "text/plain": [
              "str"
            ]
          },
          "metadata": {},
          "execution_count": 115
        }
      ]
    },
    {
      "cell_type": "code",
      "source": [
        "name = int(name)"
      ],
      "metadata": {
        "id": "MmQ-_yPuNYqN"
      },
      "execution_count": 116,
      "outputs": []
    },
    {
      "cell_type": "code",
      "source": [
        "type(name)"
      ],
      "metadata": {
        "colab": {
          "base_uri": "https://localhost:8080/"
        },
        "id": "RmN_k3-aNrPn",
        "outputId": "c6bb0959-c64d-46ed-e998-75f33068c275"
      },
      "execution_count": 117,
      "outputs": [
        {
          "output_type": "execute_result",
          "data": {
            "text/plain": [
              "int"
            ]
          },
          "metadata": {},
          "execution_count": 117
        }
      ]
    },
    {
      "cell_type": "markdown",
      "source": [
        "* 11) Write a program that chekcs if the humber is positive, negative, or zero"
      ],
      "metadata": {
        "id": "5e26JKIZVUfR"
      }
    },
    {
      "cell_type": "code",
      "source": [
        "number = -2 #Example number\n",
        "if number > 0:\n",
        "    print(\"The number is positive.\")\n",
        "elif number < 0:\n",
        "    print(\"The number is negative.\")\n",
        "else:\n",
        "    print(\"The number is zero.\")"
      ],
      "metadata": {
        "colab": {
          "base_uri": "https://localhost:8080/"
        },
        "id": "jQUdOHQCOF7h",
        "outputId": "931ec9a2-0ade-478a-ddd1-f1ff796f53c8"
      },
      "execution_count": 118,
      "outputs": [
        {
          "output_type": "stream",
          "name": "stdout",
          "text": [
            "The number is negative.\n"
          ]
        }
      ]
    },
    {
      "cell_type": "markdown",
      "source": [
        "* 12) Write a for loop to print numbers from 1 to 10"
      ],
      "metadata": {
        "id": "WZODTsUcVjP6"
      }
    },
    {
      "cell_type": "code",
      "source": [
        "for g in range(1, 11):\n",
        "    print(g)"
      ],
      "metadata": {
        "colab": {
          "base_uri": "https://localhost:8080/"
        },
        "id": "-MOZYNHxVumc",
        "outputId": "9a390f61-4005-4a22-bf28-3bd38cf27ebe"
      },
      "execution_count": 122,
      "outputs": [
        {
          "output_type": "stream",
          "name": "stdout",
          "text": [
            "1\n",
            "2\n",
            "3\n",
            "4\n",
            "5\n",
            "6\n",
            "7\n",
            "8\n",
            "9\n",
            "10\n"
          ]
        }
      ]
    },
    {
      "cell_type": "markdown",
      "source": [
        "* 13) Write a Python program to find the sum of all even numbers between 1 and 50"
      ],
      "metadata": {
        "id": "BCjBxPasVvRd"
      }
    },
    {
      "cell_type": "code",
      "source": [
        "def sum_of_even_numbers(n):\n",
        "    \"\"\"Calculate the sum of even numbers between 1 and 50.\n",
        "    Args:\n",
        "        n: the upper limit of the range\n",
        "\n",
        "    Returns:\n",
        "        int: The sum of even numbersin range.\n",
        "    \"\"\"\n",
        "    sum = 0\n",
        "    for i in range (2, n + 1, 2):\n",
        "        sum += i\n",
        "    return sum\n",
        "\n",
        "    result= sum_of_even_numbers(50)\n",
        "    print(f\"The sum of all even numbers between 1 and 50 is : {result}\")\n"
      ],
      "metadata": {
        "id": "mY4UtoFqV-ou"
      },
      "execution_count": 130,
      "outputs": []
    },
    {
      "cell_type": "markdown",
      "source": [
        "* 14) Write a program to reverse a string using a while loop"
      ],
      "metadata": {
        "id": "is7U8mfUV_Qj"
      }
    },
    {
      "cell_type": "code",
      "source": [
        "def reverse_string(input_string):\n",
        "    \"\"\"Reverse a string using a while loop.\n",
        "\n",
        "    Args:\n",
        "        input_string: The string to be reversed.\n",
        "\n",
        "    Returns:\n",
        "        str: The reversed string.\n",
        "    \"\"\"\n",
        "    reversed_string = \"\"\n",
        "    index = len(input_string) - 1\n",
        "\n",
        "    while index >= 0:\n",
        "        reversed_string += input_string[index]\n",
        "        index -= 1\n",
        "\n",
        "    return reversed_string\n",
        "\n",
        "    input_string = \"Hello, world!\"\n",
        "    reversed_str = reverse_string(input_string)\n",
        "    print(f\"The reversed string is: {reversed_str}\")\n",
        "\n",
        ""
      ],
      "metadata": {
        "id": "1WCPG-vgWMaw"
      },
      "execution_count": 133,
      "outputs": []
    },
    {
      "cell_type": "markdown",
      "source": [
        "* 15) Write a python program to calculate the factorial of a number provided by the user using while loop"
      ],
      "metadata": {
        "id": "1oK4kRGlWM0c"
      }
    },
    {
      "cell_type": "code",
      "source": [
        "def factorial(n):\n",
        "  num = 1\n",
        "  while n >= 1:\n",
        "        num = num * n\n",
        "        n = n - 1\n",
        "\n",
        "  f = factorial(8)\n",
        "  print(f)"
      ],
      "metadata": {
        "id": "IY6SZjCyWcq5"
      },
      "execution_count": 147,
      "outputs": []
    }
  ]
}